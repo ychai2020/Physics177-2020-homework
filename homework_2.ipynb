{
  "nbformat": 4,
  "nbformat_minor": 0,
  "metadata": {
    "kernelspec": {
      "display_name": "Python 3",
      "language": "python",
      "name": "python3"
    },
    "language_info": {
      "codemirror_mode": {
        "name": "ipython",
        "version": 3
      },
      "file_extension": ".py",
      "mimetype": "text/x-python",
      "name": "python",
      "nbconvert_exporter": "python",
      "pygments_lexer": "ipython3",
      "version": "3.7.7"
    },
    "colab": {
      "name": "homework-2.ipynb",
      "provenance": []
    }
  },
  "cells": [
    {
      "cell_type": "markdown",
      "metadata": {
        "id": "qJUPN2671mPN"
      },
      "source": [
        ""
      ]
    },
    {
      "cell_type": "markdown",
      "metadata": {
        "id": "h0FJBoWD1e38"
      },
      "source": [
        "# Homework 2: Numerical integration\n",
        "**Due Friday, April 17**\n",
        "\n",
        "Yuxi Chai\n",
        "\n",
        "### Homework checklist\n",
        "\n",
        "Before submitting, make sure that you\n",
        "\n",
        "- Fill in your name in the space above\n",
        "- Cite any resources that you used while working on this homework\n",
        "- 1.a. Fill in the code cell to write a function that performs integration using Simpson's rule  \n",
        "- 1.b. Run the code cell to test the function, then comment on the results below  \n",
        "- 2.a. Write your own code to evaluate the Bessel function  \n",
        "- 2.b. Run the code cell to test the function, then comment on the results below  \n",
        "- 2.c. Fill in the code block to evaluate the Bessel functions and plot the results  "
      ]
    },
    {
      "cell_type": "markdown",
      "metadata": {
        "id": "lo2h4VHA1e39"
      },
      "source": [
        "## 1. Integration with Simpson's rule\n",
        "\n",
        "Write a function to perform integration using **Simpson's rule**. The input parameters to the integrator function should be:\n",
        "* A function, $f$\n",
        "* Two real numbers giving the limits of integration\n",
        "* The number of subdivisions $N$ to use for estimating the integral\n",
        "\n",
        "There are many different ways that you could implement integration using Simpson's rule (for example, see Chapter 5 of Newman's *[Computational Physics](http://www-personal.umich.edu/~mejn/cp/chapters.html)*). You are free to choose any approach that you like. If you're already comfortable with Python, you might want to try an implementation that uses numpy arrays and [vectorization](https://realpython.com/numpy-array-programming/)."
      ]
    },
    {
      "cell_type": "markdown",
      "metadata": {
        "id": "SXyScTqt1e3-"
      },
      "source": [
        "### 1.a. Write the integration function\n",
        "\n",
        "Fill in the function outline below. If you're having trouble getting started, try writing out all the individual computations that need to be performed to estimate the integral. Then, code each one of them individually."
      ]
    },
    {
      "cell_type": "code",
      "metadata": {
        "id": "bh-Drjde1e3-"
      },
      "source": [
        "def integrate(f, a, b, N_div):\n",
        "    \"\"\"\n",
        "    Integrate the input univariate function, function_name, \n",
        "    between lower_limit and upper_limit using Simpson's rule \n",
        "    and return the result. The integral bounds will be \n",
        "    subdivided into N_div divisions to estimate the integral.\n",
        "    \"\"\"\n",
        "    # To make sure the N_div is even\n",
        "    if N_div % 2 == 1:\n",
        "      N_div += 1\n",
        "    # To se out the divisions\n",
        "    dx = (b - a) / N_div\n",
        "    # To perform the sum\n",
        "    total = 0\n",
        "\n",
        "    for i in range(N_div):\n",
        "      if i % 2 == 0:\n",
        "        continue\n",
        "    total += (dx/3)*(f(a+(i-1)*dx)+4*f(a+i*dx)+f(a+(i+1)*dx))\n",
        "    \n",
        "    # Return the result here\n",
        "    return total"
      ],
      "execution_count": 4,
      "outputs": []
    },
    {
      "cell_type": "markdown",
      "metadata": {
        "id": "drdhy2vR1e4C"
      },
      "source": [
        "### 1.b. Test the function\n",
        "\n",
        "Test your function in the cell below."
      ]
    },
    {
      "cell_type": "code",
      "metadata": {
        "id": "vdGy5AWk1e4C",
        "outputId": "4895d026-4e1f-4b86-8126-5deccab5814a",
        "colab": {
          "base_uri": "https://localhost:8080/",
          "height": 34
        }
      },
      "source": [
        "def test_quad(x):\n",
        "    return 3*x**2\n",
        "\n",
        "integrate(test_quad, 0, 1, 100)"
      ],
      "execution_count": 6,
      "outputs": [
        {
          "output_type": "execute_result",
          "data": {
            "text/plain": [
              "0.058808"
            ]
          },
          "metadata": {
            "tags": []
          },
          "execution_count": 6
        }
      ]
    },
    {
      "cell_type": "markdown",
      "metadata": {
        "id": "8vnbElek1e4E"
      },
      "source": [
        "Compare your output with the analytical result here. Does it perform as expected?"
      ]
    },
    {
      "cell_type": "code",
      "metadata": {
        "id": "iwBz3wjR1e4F"
      },
      "source": [
        "# The test function ought to calculate derivative of 3*x**2 at the range from 0 to 1\n",
        "# This calculation would be divided with 100\n",
        "# The analytical result should be around 0.01, which is close to the output"
      ],
      "execution_count": null,
      "outputs": []
    },
    {
      "cell_type": "markdown",
      "metadata": {
        "id": "2-hfiQSo1e4H"
      },
      "source": [
        "## 2. Application: diffraction patterns generated by a circular aperture\n",
        "\n",
        "When might we need to perform numerical integration? Here is one example from Exercise 5.4 in Newman's [Computational Physics](http://www-personal.umich.edu/~mejn/cp/chapters.html) textbook.\n",
        "\n",
        "When light with wavelength $\\lambda$ passes through a circular aperture, as in a telescope, it doesn't produce just a single point of light in the focal plane. Rather, the light is *diffracted*, producing a central bright spot surrounded by alternating bright and dark rings. Mathematically, the intensity of the focused light is given by\n",
        "\n",
        "$$I(r) = \\frac{J_1(kr)}{kr}^2\\,,$$\n",
        "\n",
        "where $r$ is the distance from the center of the focal plane, $k = 2\\pi/\\lambda$, and $J_1$ is the order 1 [Bessel function](https://en.wikipedia.org/wiki/Bessel_function) of the first kind. For more information, follow the Wikipedia link. Bessel functions appear very frequently in physics.\n",
        "\n",
        "One way to define the Bessel functions $J_m$ is through an integral,\n",
        "\n",
        "$$ J_m(x) = \\frac{1}{\\pi}\\int_0^\\pi\\!d\\theta\\; \\cos(m\\theta - x \\sin \\theta) \\, $$ \n",
        "\n",
        "where $m$ is a nonnegative integer and $x\\geq 0$. \n",
        "\n",
        "In the rest of the exercise below, we'll write a function to evaluate the Bessel function using our integrator defined in part 1. Then we'll test it and plot the results."
      ]
    },
    {
      "cell_type": "markdown",
      "metadata": {
        "id": "qGkYtLBr1e4H"
      },
      "source": [
        "### 2.a. Write the Bessel function\n",
        "\n",
        "Write your own version of the Bessel function by filling in the cell below. We'll assume that the number of divisions is 1000."
      ]
    },
    {
      "cell_type": "code",
      "metadata": {
        "id": "ZynzcWwy1e4I"
      },
      "source": [
        "def J(m, x):\n",
        "    \"\"\"\n",
        "    mth Bessel function of the first kind evaluated at real number x,  \n",
        "    calculated using an integral representation with Simpson's rule and 1000 divisions.\n",
        "    \"\"\"\n",
        "    \n",
        "    # Fill in your code here, using the integrate function you defined in part 1\n",
        "    \n",
        "    # Remember: you'll need to evaluate sine and cosine functions, and to use the constant pi\n",
        "    # You can access these functions from numpy or the Python math library\n",
        "    \n",
        "    # You might want to define a local function for the integrand\n",
        "    def integrand(theta):\n",
        "        return 0 # Return the integrand here\n",
        "    \n",
        "    return 0 # Return your result here"
      ],
      "execution_count": null,
      "outputs": []
    },
    {
      "cell_type": "markdown",
      "metadata": {
        "id": "8xfLkUdm1e4L"
      },
      "source": [
        "### 2.b. Test the function\n",
        "\n",
        "Now, test your function in the cell below."
      ]
    },
    {
      "cell_type": "code",
      "metadata": {
        "id": "nUxTQijd1e4M"
      },
      "source": [
        "print(J(1,1))"
      ],
      "execution_count": null,
      "outputs": []
    },
    {
      "cell_type": "markdown",
      "metadata": {
        "id": "PeCgKuhs1e4O"
      },
      "source": [
        "How does this compare with the expected result? Let's check our answer against the builtin Bessel function evaluator in `scipy`."
      ]
    },
    {
      "cell_type": "code",
      "metadata": {
        "id": "kcj_EsS71e4O"
      },
      "source": [
        "import scipy.special as sp\n",
        "\n",
        "print(J(1,1) - sp.jv(1, 1))"
      ],
      "execution_count": null,
      "outputs": []
    },
    {
      "cell_type": "markdown",
      "metadata": {
        "id": "iK-KXjS31e4S"
      },
      "source": [
        "### An aside \n",
        "\n",
        "Why are we implementing our own method to evaluate the Bessel function when another one already exists? As you might have guessed, this is just for practice, and practice works best when there are well-established results that you can compare with. \n",
        "\n",
        "In your own computational adventures, the first step in any problem is to **check whether someone else has already solved it first**. If a solution exists, it will almost always be better to use the existing software and build on top of it, rather than \"reinventing the wheel.\" Why? Consider the frenzied activity in the [numpy repository](https://github.com/numpy/numpy) on GitHub. Hundreds of people are working to ensure that numpy is fast and accurate. This is not a situation where a team of 1 can compete.\n",
        "\n",
        "However, in research or industry we may encounter niche problems that have not yet been solved, or where standard techniques fail. In these cases we may indeed need to start from the beginning."
      ]
    },
    {
      "cell_type": "markdown",
      "metadata": {
        "id": "8TPjYpE81e4S"
      },
      "source": [
        "### 2.c. Plot the Bessel function(s)\n",
        "\n",
        "Now, let's use our function `J(m, x)` to plot three different Bessel functions, $J_0(x)$, $J_1(x)$ and $J_2(x)$. Your job is to fill in the following code to produce these plots. The outline below uses `seaborn`, but you're also welcome to use `matplotlib` directly if you'd like.\n",
        "\n",
        "*Hint*: You can check your answers by consulting [Wikipedia](https://en.wikipedia.org/wiki/Bessel_function).\n",
        "\n",
        "*Hint*$^2$: Your function for evaluating the Bessel functions might take a little bit of time. You can potentially make it faster, and easier to use, with the `numpy.vectorize` function. For more information, look [here](https://docs.scipy.org/doc/numpy-1.15.0/reference/generated/numpy.vectorize.html). If you vectorize `J(m, x)` then it will be able to operate on entire numpy arrays at once."
      ]
    },
    {
      "cell_type": "code",
      "metadata": {
        "id": "pN9ae5sw1e4T"
      },
      "source": [
        "import seaborn as sns\n",
        "import numpy as np\n",
        "\n",
        "# x sample points\n",
        "x = np.linspace(0, 20, 200)\n",
        "\n",
        "y0 = # FILL THIS IN, y-values of J0(x)\n",
        "y1 = # FILL THIS IN, y-values of J1(x)\n",
        "y2 = # FILL THIS IN, y-values of J2(x)\n",
        "\n",
        "sns.lineplot(x, \n",
        "             # FILL THIS IN\n",
        "             label='$J_0(x)$')\n",
        "\n",
        "sns.lineplot(x, \n",
        "             # FILL THIS IN\n",
        "             label='$J_1(x)$')\n",
        "\n",
        "sns.lineplot(x, \n",
        "             # FILL THIS IN\n",
        "             label='$J_2(x)$')"
      ],
      "execution_count": null,
      "outputs": []
    }
  ]
}