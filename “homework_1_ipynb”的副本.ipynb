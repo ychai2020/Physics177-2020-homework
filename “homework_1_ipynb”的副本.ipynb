{
  "nbformat": 4,
  "nbformat_minor": 0,
  "metadata": {
    "kernelspec": {
      "display_name": "Python 3",
      "language": "python",
      "name": "python3"
    },
    "language_info": {
      "codemirror_mode": {
        "name": "ipython",
        "version": 3
      },
      "file_extension": ".py",
      "mimetype": "text/x-python",
      "name": "python",
      "nbconvert_exporter": "python",
      "pygments_lexer": "ipython3",
      "version": "3.8.6"
    },
    "toc": {
      "base_numbering": 1,
      "nav_menu": {},
      "number_sections": true,
      "sideBar": true,
      "skip_h1_title": false,
      "title_cell": "Table of Contents",
      "title_sidebar": "Contents",
      "toc_cell": false,
      "toc_position": {},
      "toc_section_display": true,
      "toc_window_display": false
    },
    "colab": {
      "name": "“homework-1.ipynb”的副本",
      "provenance": [],
      "collapsed_sections": [],
      "toc_visible": true
    }
  },
  "cells": [
    {
      "cell_type": "markdown",
      "metadata": {
        "id": "fxLe6CRGTt2I"
      },
      "source": [
        ""
      ]
    },
    {
      "cell_type": "markdown",
      "metadata": {
        "id": "9kv_7E3TqSiY"
      },
      "source": [
        "# Homework 1: Introduction to Jupyter and GitHub\n",
        "\n",
        "**Due Friday, October 16**\n",
        "\n",
        "Yuxi Chai\n",
        "\n",
        "### Homework checklist\n",
        "\n",
        "Before submitting, make sure that you\n",
        "\n",
        "- Fill in your name in the space above\n",
        "- Cite any resources that you used while working on this homework\n",
        "- 4. Insert and fill in a new markdown cell\n",
        "- 5. Insert and fill in a new code cell"
      ]
    },
    {
      "cell_type": "markdown",
      "metadata": {
        "id": "CWOEbb-8qSiY"
      },
      "source": [
        "## Introduction\n",
        "\n",
        "Now that you have **Python 3** and **Jupyter** installed, you can open this notebook in Jupyter. How you do this might vary a bit from system to system, but a common approach is to run `jupyter notebook` from the command line (a.k.a. terminal) in the folder where you've downloaded this file (`homework-1.ipynb`). \n",
        "\n",
        "We won't be running anything else directly from the terminal in this course, but more information is available [here](https://swcarpentry.github.io/shell-novice/) if you're interested. "
      ]
    },
    {
      "cell_type": "markdown",
      "metadata": {
        "id": "lzZzXMvzqSiZ"
      },
      "source": [
        "## 4. Practice basic Jupyter I\n",
        "\n",
        "You may have noticed that the text in this document is organized into discrete blocks called cells. You can click on any cell to select it, and double click to edit. Edit the first cell to enter your name. Once you're done, you can execute the code (or format the text) in the cell by using the menu bar above, or with the keyboard shortcut `shift + enter`.\n",
        "\n",
        "Jupyter notebooks use a lightweight language called [Markdown](https://en.wikipedia.org/wiki/Markdown) for formatting plain text. Here is a [guide](https://github.com/adam-p/markdown-here/wiki/Markdown-Cheatsheet) to some common Markdown notation. You can also use Markdown to format equations by enclosing them in `$` symbols! Equation formatting follows $\\LaTeX$ conventions.\n",
        "\n",
        "Let's practice using Jupyter and Markdown by:  \n",
        "1. Inserting a new cell below this one. To do this, select this cell and select `Insert` > `Insert Cell Below` from the menu. (*Note: if you're doing this on Google Colaboratory, you can just add a new text cell and skip the next step.*)\n",
        "2. Click on the new cell and change its type to Markdown by selecting it and selecting `Cell` > `Cell Type` > `Markdown` from the menu.  \n",
        "3. Add a heading in that cell with a single `#`, and a subheading with `##`.  \n",
        "4. Now add a numbered list below that. You can also generated un-numbered lists by using `*` or other starting characters.  \n",
        "5. Add an equation to your text box using Latex.  "
      ]
    },
    {
      "cell_type": "code",
      "metadata": {
        "id": "-ZLi2R7BUX8V",
        "outputId": "2e4f83f3-f519-43fa-d790-8c274c852973",
        "colab": {
          "base_uri": "https://localhost:8080/",
          "height": 205
        }
      },
      "source": [
        "#\n",
        "##\n",
        "1, 2, 3, 4, 5 \n",
        "W = (C*U**2) / 2"
      ],
      "execution_count": null,
      "outputs": [
        {
          "output_type": "error",
          "ename": "NameError",
          "evalue": "ignored",
          "traceback": [
            "\u001b[0;31m---------------------------------------------------------------------------\u001b[0m",
            "\u001b[0;31mNameError\u001b[0m                                 Traceback (most recent call last)",
            "\u001b[0;32m<ipython-input-1-c674ba6399ad>\u001b[0m in \u001b[0;36m<module>\u001b[0;34m()\u001b[0m\n\u001b[1;32m      2\u001b[0m \u001b[0;31m##\u001b[0m\u001b[0;34m\u001b[0m\u001b[0;34m\u001b[0m\u001b[0;34m\u001b[0m\u001b[0m\n\u001b[1;32m      3\u001b[0m \u001b[0;36m1\u001b[0m\u001b[0;34m,\u001b[0m \u001b[0;36m2\u001b[0m\u001b[0;34m,\u001b[0m \u001b[0;36m3\u001b[0m\u001b[0;34m,\u001b[0m \u001b[0;36m4\u001b[0m\u001b[0;34m,\u001b[0m \u001b[0;36m5\u001b[0m\u001b[0;34m\u001b[0m\u001b[0;34m\u001b[0m\u001b[0m\n\u001b[0;32m----> 4\u001b[0;31m \u001b[0mW\u001b[0m \u001b[0;34m=\u001b[0m \u001b[0;34m(\u001b[0m\u001b[0mC\u001b[0m\u001b[0;34m*\u001b[0m\u001b[0mU\u001b[0m\u001b[0;34m**\u001b[0m\u001b[0;36m2\u001b[0m\u001b[0;34m)\u001b[0m \u001b[0;34m/\u001b[0m \u001b[0;36m2\u001b[0m\u001b[0;34m\u001b[0m\u001b[0;34m\u001b[0m\u001b[0m\n\u001b[0m",
            "\u001b[0;31mNameError\u001b[0m: name 'C' is not defined"
          ]
        }
      ]
    },
    {
      "cell_type": "markdown",
      "metadata": {
        "id": "c9LFmpXBqSia"
      },
      "source": [
        "## 5. Practice basic Jupyter II\n",
        "\n",
        "Let's now do some light practice with code cells in Jupyter:\n",
        "1. Insert another cell below this one. By default, it will be a code cell.  (*Note: in Google Colaboratory, you will need to choose to add a code cell.*)\n",
        "2. Define a variable in that cell. For example, we could set `x = 3`.\n",
        "3. Now let's insert another new cell below that one. Print out the variable that you defined in the previous cell. For the example above, I could write `print(x)`.  \n",
        "\n",
        "Note that, as shown above, variables defined in one cell still hold their values in another cell! Each cell is not a separate compute environment. **Variables are shared across the entire notebook.** This is important to keep in mind when you are coding, so that you don't accidentally use a variable that you might not have intended to use."
      ]
    },
    {
      "cell_type": "code",
      "metadata": {
        "id": "wVI7JRUzU3N4"
      },
      "source": [
        "x = 3"
      ],
      "execution_count": null,
      "outputs": []
    },
    {
      "cell_type": "code",
      "metadata": {
        "id": "H2F06k2iU8Ww"
      },
      "source": [
        "print(x)"
      ],
      "execution_count": null,
      "outputs": []
    },
    {
      "cell_type": "markdown",
      "metadata": {
        "id": "z-dUjDanqSia"
      },
      "source": [
        "## 6. Submit the homework assignment\n",
        "\n",
        "First, save your modified version of this file by using the shortcut `contrl+s` or by selecting `File` > `Save and Checkpoint` from the menu. Next, upload it to your GitHub repository for this homework. "
      ]
    }
  ]
}